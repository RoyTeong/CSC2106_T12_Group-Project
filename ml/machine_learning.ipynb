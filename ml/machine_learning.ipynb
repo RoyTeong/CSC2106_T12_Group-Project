{
 "cells": [
  {
   "cell_type": "markdown",
   "metadata": {},
   "source": [
    "Popuate random data and export as CSV"
   ]
  },
  {
   "cell_type": "code",
   "execution_count": 34,
   "metadata": {},
   "outputs": [],
   "source": [
    "import csv\n",
    "import random\n",
    "import datetime\n",
    "from datetime import timedelta\n",
    "from faker import Faker\n",
    "\n",
    "fake = Faker()\n",
    "\n",
    "usual_pattern = [\n",
    "    (datetime.time(7, 0), datetime.time(17, 0), False),  # 7am - 5pm: Light Off\n",
    "    (datetime.time(17, 0), datetime.time(22, 0), True),  # 5pm - 10pm: Light On (sometimes Off)\n",
    "    (datetime.time(22, 0), datetime.time(2, 0), False),  # 10pm - 2am: Light Off (sometimes On)\n",
    "    (datetime.time(2, 0), datetime.time(2, 15), True),  # 2am - 2:15am: Light On (mostly Off)\n",
    "    (datetime.time(2, 15), datetime.time(7, 0), False)   # 2:15am - 7am: Light Off (mostly On)\n",
    "]\n",
    "\n",
    "with open(\"home_assistant_log.csv\", \"w\", newline='') as file:\n",
    "    writer = csv.writer(file)\n",
    "    #header = ['hour_of_day', 'day_of_week', 'month', 'lightOn', 'timestamp']  # Define the header\n",
    "    header = [\"lightOn\",\"timestamp\"]\n",
    "    writer.writerow(header)\n",
    "\n",
    "    for i in range(0, 1000):\n",
    "        random_datetime = fake.date_time_between(start_date='-30d', end_date='now')\n",
    "\n",
    "        light_on = False\n",
    "\n",
    "        for start_time, end_time, light_status in usual_pattern:\n",
    "            if start_time < random_datetime.time() < end_time:\n",
    "                #if(random.randint(1,10)%2):\n",
    "                #    light_on = True\n",
    "                writer.writerow([light_status, random_datetime])\n",
    "                break\n",
    "\n",
    "        # Randomly generate hour of the day, day of the week, and month\n",
    "        #hour_of_day = random.randint(0, 23)\n",
    "        #day_of_week = random.randint(0, 6)\n",
    "        #month = random.randint(1, 12)\n",
    "\n",
    "        #random_timestamp = (start_date + (end_date - start_date) * random.random()).timestamp() # Generate UNIX timestamp\n",
    "        #hour = random_timestamp.hour\n",
    "        #print(hour)\n",
    "\n",
    "        #timestamp = int((start_date + (end_date - start_date) * random.random()).timestamp())  # Generate UNIX timestamp\n",
    "\n",
    "        # Write the row to the CSV file\n",
    "        #writer.writerow([hour_of_day, day_of_week, month, lightOn, timestamp])\n"
   ]
  },
  {
   "cell_type": "markdown",
   "metadata": {},
   "source": [
    "Machine Learning"
   ]
  },
  {
   "cell_type": "code",
   "execution_count": 33,
   "metadata": {},
   "outputs": [
    {
     "name": "stdout",
     "output_type": "stream",
     "text": [
      "Accuracy is 0.96875\n",
      "At 19:22, light predicted to on -- Actual: ON\n",
      "At 07:21, light predicted to off -- Actual: OFF\n",
      "At 19:40, light predicted to on -- Actual: ON\n",
      "At 14:35, light predicted to off -- Actual: OFF\n",
      "At 15:34, light predicted to off -- Actual: OFF\n",
      "At 09:28, light predicted to off -- Actual: OFF\n",
      "At 15:39, light predicted to off -- Actual: OFF\n",
      "At 20:17, light predicted to on -- Actual: ON\n",
      "At 07:13, light predicted to off -- Actual: OFF\n",
      "At 20:41, light predicted to on -- Actual: ON\n"
     ]
    }
   ],
   "source": [
    "from sklearn.tree import DecisionTreeClassifier\n",
    "import pandas as pd\n",
    "from sklearn.model_selection import train_test_split\n",
    "from sklearn.metrics import accuracy_score\n",
    "import calendar\n",
    "\n",
    "def checkActualOutputOfLight(date):\n",
    "    for start_time, end_time, light_status in usual_pattern:\n",
    "        if start_time < date.time() < end_time:\n",
    "            return \"ON\" if light_status else \"OFF\"\n",
    "\n",
    "# Read the CSV file\n",
    "df = pd.read_csv(\"home_assistant_log.csv\")\n",
    "\n",
    "# Define features (X) and target (y)\n",
    "df[\"timestamp\"] = pd.to_datetime(df[\"timestamp\"])\n",
    "df['hour_of_day'] = df['timestamp'].dt.hour\n",
    "df[\"minute\"] = df[\"timestamp\"].dt.minute\n",
    "\n",
    "X = df.drop(columns=[\"timestamp\", \"lightOn\"], axis=1).to_numpy()\n",
    "y = df[\"lightOn\"].to_numpy()\n",
    "\n",
    "#print(X)\n",
    "\n",
    "## Initialize and train the model\n",
    "model = DecisionTreeClassifier()\n",
    "\n",
    "X_train, X_test, y_train, y_test = train_test_split(X, y, test_size=0.2, random_state=12)\n",
    "model.fit(X_train,y_train)\n",
    "\n",
    "y_pred = model.predict(X_test)\n",
    "print(\"Accuracy is {}\".format(accuracy_score(y_test, y_pred)))\n",
    "\n",
    "ranDt = [fake.date_time() for _ in range(10)]\n",
    "list_of_days = list(calendar.day_abbr)\n",
    "\n",
    "for i in ranDt:\n",
    "    rand_date = pd.to_datetime(i)\n",
    "    hour = rand_date.hour\n",
    "    day = rand_date.day_of_week\n",
    "    #month = rand_date.month\n",
    "    minute = rand_date.minute\n",
    "    #prediction = model.predict([[hour,day,minute]])\n",
    "    prediction = model.predict([ [hour,minute]])\n",
    "\n",
    "\n",
    "    #print(\"At {},{}:{}, light should be {}\".format(list_of_days[day-1], hour, minute, \"on\" if prediction else \"off\"))\n",
    "    print(\"At {:02d}:{:02d}, light predicted to {} -- Actual: {}\".format( hour, minute, \"on\" if prediction else \"off\", checkActualOutputOfLight(rand_date) ))\n"
   ]
  }
 ],
 "metadata": {
  "kernelspec": {
   "display_name": "Python 3",
   "language": "python",
   "name": "python3"
  },
  "language_info": {
   "codemirror_mode": {
    "name": "ipython",
    "version": 3
   },
   "file_extension": ".py",
   "mimetype": "text/x-python",
   "name": "python",
   "nbconvert_exporter": "python",
   "pygments_lexer": "ipython3",
   "version": "3.12.2"
  }
 },
 "nbformat": 4,
 "nbformat_minor": 2
}
